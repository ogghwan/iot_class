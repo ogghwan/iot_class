{
  "nbformat": 4,
  "nbformat_minor": 0,
  "metadata": {
    "colab": {
      "provenance": [],
      "authorship_tag": "ABX9TyOLZ9t0dXmWx1U6yavcTkSd",
      "include_colab_link": true
    },
    "kernelspec": {
      "name": "python3",
      "display_name": "Python 3"
    },
    "language_info": {
      "name": "python"
    }
  },
  "cells": [
    {
      "cell_type": "markdown",
      "metadata": {
        "id": "view-in-github",
        "colab_type": "text"
      },
      "source": [
        "<a href=\"https://colab.research.google.com/github/ogghwan/iot_class/blob/main/usingTCP.ipynb\" target=\"_parent\"><img src=\"https://colab.research.google.com/assets/colab-badge.svg\" alt=\"Open In Colab\"/></a>"
      ]
    },
    {
      "cell_type": "code",
      "execution_count": 5,
      "metadata": {
        "colab": {
          "base_uri": "https://localhost:8080/"
        },
        "id": "h5dutSttJqMY",
        "outputId": "5bf6b440-8c64-41df-d043-4c983f84850e"
      },
      "outputs": [
        {
          "output_type": "stream",
          "name": "stdout",
          "text": [
            "Received HTTP/1.1 505 HTTP Version Not Supported\r\n",
            "Date: Thu, 28 Mar 2024 04:38:35 GMT\r\n",
            "Connection: close\r\n",
            "Content-Type: text/html\r\n",
            "Content-Length: 182\r\n",
            "\r\n",
            "<!DOCTYPE HTML PUBLIC \"-//IETF//DTD HTML 2.0//EN\">\n",
            "<HTML><HEAD>\n",
            "<TITLE> 505 HTTP Version Not Supported </TITLE>\n",
            "</HEAD><BODY>\n",
            "<H1>HTTP Version Not Supported</H1>\n",
            "<HR>\n",
            "</BODY></HTML>\n",
            "\n"
          ]
        }
      ],
      "source": [
        "import socket\n",
        "\n",
        "HOST = \"ewha.ac.kr\"\n",
        "PORT = 80\n",
        "\n",
        "with socket.socket(socket.AF_INET, socket.SOCK_STREAM) as s:\n",
        "  s.connect((HOST, PORT))\n",
        "  s.sendall(b\"GET / HTTP/1.2\\n\\n\")\n",
        "  data = s.recv(1024)\n",
        "\n",
        "print(f\"Received {data.decode('utf-8')}\")"
      ]
    }
  ]
}