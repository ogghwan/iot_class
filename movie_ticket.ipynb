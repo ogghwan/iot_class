{
  "nbformat": 4,
  "nbformat_minor": 0,
  "metadata": {
    "colab": {
      "provenance": [],
      "authorship_tag": "ABX9TyO638MI4TVTqg+aAWzfeX0K",
      "include_colab_link": true
    },
    "kernelspec": {
      "name": "python3",
      "display_name": "Python 3"
    },
    "language_info": {
      "name": "python"
    }
  },
  "cells": [
    {
      "cell_type": "markdown",
      "metadata": {
        "id": "view-in-github",
        "colab_type": "text"
      },
      "source": [
        "<a href=\"https://colab.research.google.com/github/ogghwan/iot_class/blob/main/movie_ticket.ipynb\" target=\"_parent\"><img src=\"https://colab.research.google.com/assets/colab-badge.svg\" alt=\"Open In Colab\"/></a>"
      ]
    },
    {
      "cell_type": "code",
      "execution_count": 1,
      "metadata": {
        "colab": {
          "base_uri": "https://localhost:8080/"
        },
        "id": "zqqYTtqaKm_H",
        "outputId": "f495e445-4a5f-40d5-b66b-94219ef37c06"
      },
      "outputs": [
        {
          "output_type": "stream",
          "name": "stdout",
          "text": [
            "<?xml version=\"1.0\" encoding=\"utf-8\" standalone=\"yes\"?><boxOfficeResult><boxofficeType>일별 박스오피스</boxofficeType><showRange>20240314~20240314</showRange><dailyBoxOfficeList><dailyBoxOffice><rnum>1</rnum><rank>1</rank><rankInten>0</rankInten><rankOldAndNew>OLD</rankOldAndNew><movieCd>20234675</movieCd><movieNm>파묘</movieNm><openDt>2024-02-22</openDt><salesAmt>994495376</salesAmt><salesShare>60.1</salesShare><salesInten>-77793244</salesInten><salesChange>-7.3</salesChange><salesAcc>82017268331</salesAcc><audiCnt>105066</audiCnt><audiInten>-8340</audiInten><audiChange>-7.4</audiChange><audiAcc>8517612</audiAcc><scrnCnt>1754</scrnCnt><showCnt>6456</showCnt></dailyBoxOffice><dailyBoxOffice><rnum>2</rnum><rank>2</rank><rankInten>0</rankInten><rankOldAndNew>OLD</rankOldAndNew><movieCd>20236295</movieCd><movieNm>듄: 파트2</movieNm><openDt>2024-02-28</openDt><salesAmt>309814157</salesAmt><salesShare>18.7</salesShare><salesInten>-23204995</salesInten><salesChange>-7</salesChange><salesAcc>15879878942</salesAcc><audiCnt>24491</audiCnt><audiInten>-2936</audiInten><audiChange>-10.7</audiChange><audiAcc>1393237</audiAcc><scrnCnt>828</scrnCnt><showCnt>1884</showCnt></dailyBoxOffice><dailyBoxOffice><rnum>3</rnum><rank>3</rank><rankInten>0</rankInten><rankOldAndNew>OLD</rankOldAndNew><movieCd>20236488</movieCd><movieNm>밥 말리: 원 러브</movieNm><openDt>2024-03-13</openDt><salesAmt>40116956</salesAmt><salesShare>2.4</salesShare><salesInten>-42432996</salesInten><salesChange>-51.4</salesChange><salesAcc>133735908</salesAcc><audiCnt>4553</audiCnt><audiInten>-4943</audiInten><audiChange>-52.1</audiChange><audiAcc>15042</audiAcc><scrnCnt>507</scrnCnt><showCnt>1004</showCnt></dailyBoxOffice><dailyBoxOffice><rnum>4</rnum><rank>4</rank><rankInten>1</rankInten><rankOldAndNew>OLD</rankOldAndNew><movieCd>20247782</movieCd><movieNm>랜드 오브 배드</movieNm><openDt>2024-03-13</openDt><salesAmt>32450793</salesAmt><salesShare>2.0</salesShare><salesInten>-8439762</salesInten><salesChange>-20.6</salesChange><salesAcc>79255348</salesAcc><audiCnt>3962</audiCnt><audiInten>-1408</audiInten><audiChange>-26.2</audiChange><audiAcc>9972</audiAcc><scrnCnt>386</scrnCnt><showCnt>668</showCnt></dailyBoxOffice><dailyBoxOffice><rnum>5</rnum><rank>5</rank><rankInten>1</rankInten><rankOldAndNew>OLD</rankOldAndNew><movieCd>20236732</movieCd><movieNm>가여운 것들</movieNm><openDt>2024-03-06</openDt><salesAmt>39117080</salesAmt><salesShare>2.4</salesShare><salesInten>-2933425</salesInten><salesChange>-7</salesChange><salesAcc>865460611</salesAcc><audiCnt>3931</audiCnt><audiInten>-361</audiInten><audiChange>-8.4</audiChange><audiAcc>87325</audiAcc><scrnCnt>292</scrnCnt><showCnt>390</showCnt></dailyBoxOffice><dailyBoxOffice><rnum>6</rnum><rank>6</rank><rankInten>1</rankInten><rankOldAndNew>OLD</rankOldAndNew><movieCd>20234789</movieCd><movieNm>패스트 라이브즈</movieNm><openDt>2024-03-06</openDt><salesAmt>29680917</salesAmt><salesShare>1.8</salesShare><salesInten>-4513539</salesInten><salesChange>-13.2</salesChange><salesAcc>660495285</salesAcc><audiCnt>3134</audiCnt><audiInten>-469</audiInten><audiChange>-13</audiChange><audiAcc>73885</audiAcc><scrnCnt>320</scrnCnt><showCnt>486</showCnt></dailyBoxOffice><dailyBoxOffice><rnum>7</rnum><rank>7</rank><rankInten>-3</rankInten><rankOldAndNew>OLD</rankOldAndNew><movieCd>20247053</movieCd><movieNm>메이 디셈버</movieNm><openDt>2024-03-13</openDt><salesAmt>25486445</salesAmt><salesShare>1.5</salesShare><salesInten>-41719903</salesInten><salesChange>-62.1</salesChange><salesAcc>146464556</salesAcc><audiCnt>2912</audiCnt><audiInten>-4992</audiInten><audiChange>-63.2</audiChange><audiAcc>15791</audiAcc><scrnCnt>375</scrnCnt><showCnt>540</showCnt></dailyBoxOffice><dailyBoxOffice><rnum>8</rnum><rank>8</rank><rankInten>3</rankInten><rankOldAndNew>OLD</rankOldAndNew><movieCd>20247074</movieCd><movieNm>건국전쟁</movieNm><openDt>2024-02-01</openDt><salesAmt>18946378</salesAmt><salesShare>1.1</salesShare><salesInten>3230961</salesInten><salesChange>20.6</salesChange><salesAcc>10715120197</salesAcc><audiCnt>2217</audiCnt><audiInten>372</audiInten><audiChange>20.2</audiChange><audiAcc>1152233</audiAcc><scrnCnt>181</scrnCnt><showCnt>206</showCnt></dailyBoxOffice><dailyBoxOffice><rnum>9</rnum><rank>9</rank><rankInten>1</rankInten><rankOldAndNew>OLD</rankOldAndNew><movieCd>20236180</movieCd><movieNm>웡카</movieNm><openDt>2024-01-31</openDt><salesAmt>20209790</salesAmt><salesShare>1.2</salesShare><salesInten>-1411017</salesInten><salesChange>-6.5</salesChange><salesAcc>32887884760</salesAcc><audiCnt>2112</audiCnt><audiInten>-141</audiInten><audiChange>-6.3</audiChange><audiAcc>3420403</audiAcc><scrnCnt>228</scrnCnt><showCnt>290</showCnt></dailyBoxOffice><dailyBoxOffice><rnum>10</rnum><rank>10</rank><rankInten>0</rankInten><rankOldAndNew>NEW</rankOldAndNew><movieCd>20210127</movieCd><movieNm>화녀</movieNm><openDt>2024-03-14</openDt><salesAmt>15694800</salesAmt><salesShare>0.9</salesShare><salesInten>15694800</salesInten><salesChange>100</salesChange><salesAcc>17053800</salesAcc><audiCnt>1887</audiCnt><audiInten>1887</audiInten><audiChange>100</audiChange><audiAcc>2038</audiAcc><scrnCnt>77</scrnCnt><showCnt>99</showCnt></dailyBoxOffice></dailyBoxOfficeList></boxOfficeResult>\n"
          ]
        }
      ],
      "source": [
        "import requests\n",
        "from bs4 import BeautifulSoup\n",
        "\n",
        "r = requests.get('http://www.kobis.or.kr/kobisopenapi/webservice/rest/boxoffice/searchDailyBoxOfficeList.xml?key=4e665d30a61704733a7bf255bb09f14b&targetDt=20240314')\n",
        "print(r.text)"
      ]
    },
    {
      "cell_type": "code",
      "source": [
        "soup = BeautifulSoup(r.text, features=\"xml\")"
      ],
      "metadata": {
        "id": "c8MX_mo_M6rM"
      },
      "execution_count": 2,
      "outputs": []
    },
    {
      "cell_type": "code",
      "source": [
        "soup.find_all('movieNm')"
      ],
      "metadata": {
        "colab": {
          "base_uri": "https://localhost:8080/"
        },
        "id": "LvESS1FlNC4s",
        "outputId": "78caf300-189c-46c9-84d0-95b579510625"
      },
      "execution_count": 3,
      "outputs": [
        {
          "output_type": "execute_result",
          "data": {
            "text/plain": [
              "[<movieNm>파묘</movieNm>,\n",
              " <movieNm>듄: 파트2</movieNm>,\n",
              " <movieNm>밥 말리: 원 러브</movieNm>,\n",
              " <movieNm>랜드 오브 배드</movieNm>,\n",
              " <movieNm>가여운 것들</movieNm>,\n",
              " <movieNm>패스트 라이브즈</movieNm>,\n",
              " <movieNm>메이 디셈버</movieNm>,\n",
              " <movieNm>건국전쟁</movieNm>,\n",
              " <movieNm>웡카</movieNm>,\n",
              " <movieNm>화녀</movieNm>]"
            ]
          },
          "metadata": {},
          "execution_count": 3
        }
      ]
    },
    {
      "cell_type": "code",
      "source": [
        "soup.find_all('audiCnt')"
      ],
      "metadata": {
        "colab": {
          "base_uri": "https://localhost:8080/"
        },
        "id": "GIbfbmsfNJjC",
        "outputId": "ce142afe-f87a-44e6-ec7f-22b1b892685e"
      },
      "execution_count": 4,
      "outputs": [
        {
          "output_type": "execute_result",
          "data": {
            "text/plain": [
              "[<audiCnt>105066</audiCnt>,\n",
              " <audiCnt>24491</audiCnt>,\n",
              " <audiCnt>4553</audiCnt>,\n",
              " <audiCnt>3962</audiCnt>,\n",
              " <audiCnt>3931</audiCnt>,\n",
              " <audiCnt>3134</audiCnt>,\n",
              " <audiCnt>2912</audiCnt>,\n",
              " <audiCnt>2217</audiCnt>,\n",
              " <audiCnt>2112</audiCnt>,\n",
              " <audiCnt>1887</audiCnt>]"
            ]
          },
          "metadata": {},
          "execution_count": 4
        }
      ]
    }
  ]
}