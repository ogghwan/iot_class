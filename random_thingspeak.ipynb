{
  "nbformat": 4,
  "nbformat_minor": 0,
  "metadata": {
    "colab": {
      "provenance": [],
      "authorship_tag": "ABX9TyOE2faI15RQPr+cs1KeEtoi",
      "include_colab_link": true
    },
    "kernelspec": {
      "name": "python3",
      "display_name": "Python 3"
    },
    "language_info": {
      "name": "python"
    }
  },
  "cells": [
    {
      "cell_type": "markdown",
      "metadata": {
        "id": "view-in-github",
        "colab_type": "text"
      },
      "source": [
        "<a href=\"https://colab.research.google.com/github/ogghwan/iot_class/blob/main/random_thingspeak.ipynb\" target=\"_parent\"><img src=\"https://colab.research.google.com/assets/colab-badge.svg\" alt=\"Open In Colab\"/></a>"
      ]
    },
    {
      "cell_type": "code",
      "execution_count": 6,
      "metadata": {
        "colab": {
          "base_uri": "https://localhost:8080/"
        },
        "id": "EQ-LI0-5axY0",
        "outputId": "358e691e-a836-4b0d-a71c-374b8dfbaf66"
      },
      "outputs": [
        {
          "output_type": "stream",
          "name": "stdout",
          "text": [
            "0\n",
            "9 74\n",
            "1\n",
            "10 61\n",
            "2\n",
            "11 96\n",
            "3\n",
            "12 34\n",
            "4\n",
            "13 23\n"
          ]
        }
      ],
      "source": [
        "import random\n",
        "\n",
        "for i in range(5):\n",
        "  print(i)\n",
        "  v=random.randint(0,100)\n",
        "  r=requests.get('https://api.thingspeak.com/update?api_key=I73J07EJVJFKXEYW&field1='+str(x))\n",
        "  print(r.text, v)\n",
        "  time.sleep(20)"
      ]
    }
  ]
}