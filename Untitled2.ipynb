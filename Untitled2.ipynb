{
  "nbformat": 4,
  "nbformat_minor": 0,
  "metadata": {
    "colab": {
      "provenance": [],
      "authorship_tag": "ABX9TyNg5zBupgY71Re04VlMDlqE",
      "include_colab_link": true
    },
    "kernelspec": {
      "name": "python3",
      "display_name": "Python 3"
    },
    "language_info": {
      "name": "python"
    }
  },
  "cells": [
    {
      "cell_type": "markdown",
      "metadata": {
        "id": "view-in-github",
        "colab_type": "text"
      },
      "source": [
        "<a href=\"https://colab.research.google.com/github/ogghwan/iot_class/blob/main/Untitled2.ipynb\" target=\"_parent\"><img src=\"https://colab.research.google.com/assets/colab-badge.svg\" alt=\"Open In Colab\"/></a>"
      ]
    },
    {
      "cell_type": "code",
      "execution_count": 58,
      "metadata": {
        "colab": {
          "base_uri": "https://localhost:8080/"
        },
        "id": "ECp8ak4Da91P",
        "outputId": "323b464a-5536-47aa-bc23-52af69babfc3"
      },
      "outputs": [
        {
          "output_type": "stream",
          "name": "stdout",
          "text": [
            "b'<?xml version=\"1.0\" encoding=\"UTF-8\" standalone=\"yes\"?><response><header><resultCode>00</resultCode><resultMsg>NORMAL SERVICE.</resultMsg></header><body><items><item><airport>\\xea\\xb9\\x80\\xed\\x8f\\xac</airport><arrFlight>788</arrFlight><depFlight>792</depFlight><flights>1,580</flights></item><item><airport>\\xea\\xb9\\x80\\xed\\x95\\xb4</airport><arrFlight>1,960</arrFlight><depFlight>1,961</depFlight><flights>3,921</flights></item><item><airport>\\xeb\\x8c\\x80\\xea\\xb5\\xac</airport><arrFlight>306</arrFlight><depFlight>306</depFlight><flights>612</flights></item><item><airport>\\xeb\\xac\\xb4\\xec\\x95\\x88</airport><arrFlight>41</arrFlight><depFlight>41</depFlight><flights>82</flights></item><item><airport>\\xec\\x9d\\xb8\\xec\\xb2\\x9c</airport><arrFlight>13,810</arrFlight><depFlight>13,798</depFlight><flights>27,608</flights></item><item><airport>\\xec\\xa0\\x9c\\xec\\xa3\\xbc</airport><arrFlight>519</arrFlight><depFlight>520</depFlight><flights>1,039</flights></item><item><airport>\\xec\\xb2\\xad\\xec\\xa3\\xbc</airport><arrFlight>378</arrFlight><depFlight>379</depFlight><flights>757</flights></item></items></body></response>'\n"
          ]
        }
      ],
      "source": [
        "import requests\n",
        "\n",
        "url = 'http://apis.data.go.kr/B551177/AviationStatsByAirport/getTotalNumberOfFlight'\n",
        "params ={'serviceKey' : 'Z8QAyDRVybcR%2BPGt5UAfJnhlqWIctdWyMTreyKeGLHoezL1uk%2FbH8MMm6%2FAIzegYZ%2B8Jzuac%2Fmt9xMaagZkEOg%3D%3D', 'from_month' : '202402', 'to_month' : '202402', 'periodicity' : '0', 'pax_cargo' : 'Y', 'domestic_foreign' : 'I', 'type' : 'xml' }\n",
        "\n",
        "r = requests.get(url, params=params)\n",
        "print(r.content)"
      ]
    },
    {
      "cell_type": "code",
      "source": [
        "soup = BeautifulSoup(r.text, features=\"xml\")"
      ],
      "metadata": {
        "id": "E36gVOZP2nmR"
      },
      "execution_count": 59,
      "outputs": []
    },
    {
      "cell_type": "code",
      "source": [
        "soup.find_all('airport')"
      ],
      "metadata": {
        "colab": {
          "base_uri": "https://localhost:8080/"
        },
        "id": "m7ye8GHX5xZP",
        "outputId": "3f405e9e-089f-4797-f007-c1708355f6e6"
      },
      "execution_count": 60,
      "outputs": [
        {
          "output_type": "execute_result",
          "data": {
            "text/plain": [
              "[<airport>김포</airport>,\n",
              " <airport>김해</airport>,\n",
              " <airport>대구</airport>,\n",
              " <airport>무안</airport>,\n",
              " <airport>인천</airport>,\n",
              " <airport>제주</airport>,\n",
              " <airport>청주</airport>]"
            ]
          },
          "metadata": {},
          "execution_count": 60
        }
      ]
    }
  ]
}