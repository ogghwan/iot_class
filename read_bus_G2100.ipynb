{
  "nbformat": 4,
  "nbformat_minor": 0,
  "metadata": {
    "colab": {
      "provenance": [],
      "authorship_tag": "ABX9TyNl74iSvoNjnjVdI8nO3Kj6",
      "include_colab_link": true
    },
    "kernelspec": {
      "name": "python3",
      "display_name": "Python 3"
    },
    "language_info": {
      "name": "python"
    }
  },
  "cells": [
    {
      "cell_type": "markdown",
      "metadata": {
        "id": "view-in-github",
        "colab_type": "text"
      },
      "source": [
        "<a href=\"https://colab.research.google.com/github/ogghwan/iot_class/blob/main/read_bus_G2100.ipynb\" target=\"_parent\"><img src=\"https://colab.research.google.com/assets/colab-badge.svg\" alt=\"Open In Colab\"/></a>"
      ]
    },
    {
      "cell_type": "code",
      "execution_count": 2,
      "metadata": {
        "colab": {
          "base_uri": "https://localhost:8080/"
        },
        "id": "IXxufQ7jCIK9",
        "outputId": "972ca7fa-9d2c-47e9-d51c-660c3af258c0"
      },
      "outputs": [
        {
          "output_type": "stream",
          "name": "stdout",
          "text": [
            "<?xml version=\"1.0\" encoding=\"UTF-8\" standalone=\"yes\"?><response><comMsgHeader/><msgHeader><queryTime>2024-03-15 12:23:51.714</queryTime><resultCode>0</resultCode><resultMessage>정상적으로 처리되었습니다.</resultMessage></msgHeader><msgBody><busLocationList><endBus>0</endBus><lowPlate>0</lowPlate><plateNo>경기78사8162</plateNo><plateType>3</plateType><remainSeatCnt>23</remainSeatCnt><routeId>230000179</routeId><stationId>123000611</stationId><stationSeq>27</stationSeq></busLocationList><busLocationList><endBus>0</endBus><lowPlate>0</lowPlate><plateNo>경기78사8168</plateNo><plateType>3</plateType><remainSeatCnt>34</remainSeatCnt><routeId>230000179</routeId><stationId>230001412</stationId><stationSeq>45</stationSeq></busLocationList><busLocationList><endBus>0</endBus><lowPlate>0</lowPlate><plateNo>경기78사8166</plateNo><plateType>3</plateType><remainSeatCnt>35</remainSeatCnt><routeId>230000179</routeId><stationId>230000891</stationId><stationSeq>2</stationSeq></busLocationList><busLocationList><endBus>0</endBus><lowPlate>0</lowPlate><plateNo>경기78사8164</plateNo><plateType>3</plateType><remainSeatCnt>19</remainSeatCnt><routeId>230000179</routeId><stationId>277104440</stationId><stationSeq>9</stationSeq></busLocationList><busLocationList><endBus>0</endBus><lowPlate>0</lowPlate><plateNo>경기78사8194</plateNo><plateType>3</plateType><remainSeatCnt>31</remainSeatCnt><routeId>230000179</routeId><stationId>277104447</stationId><stationSeq>42</stationSeq></busLocationList><busLocationList><endBus>0</endBus><lowPlate>0</lowPlate><plateNo>경기78사8161</plateNo><plateType>3</plateType><remainSeatCnt>30</remainSeatCnt><routeId>230000179</routeId><stationId>123000016</stationId><stationSeq>35</stationSeq></busLocationList><busLocationList><endBus>0</endBus><lowPlate>0</lowPlate><plateNo>경기78사8163</plateNo><plateType>3</plateType><remainSeatCnt>14</remainSeatCnt><routeId>230000179</routeId><stationId>277103267</stationId><stationSeq>18</stationSeq></busLocationList></msgBody></response>\n"
          ]
        }
      ],
      "source": [
        "import requests\n",
        "url='http://openapi.gbis.go.kr/ws/rest/buslocationservice?serviceKey=1234567890&routeId=230000179'\n",
        "r = requests.get(url)\n",
        "print(r.text)"
      ]
    },
    {
      "cell_type": "code",
      "source": [
        "from bs4 import BeautifulSoup\n",
        "soup = BeautifulSoup(r.text, features=\"xml\")"
      ],
      "metadata": {
        "id": "u0Vgxd-nIza5"
      },
      "execution_count": 3,
      "outputs": []
    },
    {
      "cell_type": "code",
      "source": [
        "soup.find_all('stationId')"
      ],
      "metadata": {
        "colab": {
          "base_uri": "https://localhost:8080/"
        },
        "id": "uN0mQcTXJEzn",
        "outputId": "8f8f61b0-b129-4ae8-85ef-32ba19a1c527"
      },
      "execution_count": 4,
      "outputs": [
        {
          "output_type": "execute_result",
          "data": {
            "text/plain": [
              "[<stationId>123000611</stationId>,\n",
              " <stationId>230001412</stationId>,\n",
              " <stationId>230000891</stationId>,\n",
              " <stationId>277104440</stationId>,\n",
              " <stationId>277104447</stationId>,\n",
              " <stationId>123000016</stationId>,\n",
              " <stationId>277103267</stationId>]"
            ]
          },
          "metadata": {},
          "execution_count": 4
        }
      ]
    }
  ]
}